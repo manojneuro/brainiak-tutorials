{
 "cells": [
  {
   "cell_type": "markdown",
   "metadata": {},
   "source": [
    "# Introduction to BrainIAK tutorials\n",
    "\n",
    "\n",
    "Congratulations, if you are viewing this Jupyter notebook, you have already acquired many of the skills necessary to excel in this course and you are well on your way to learning cutting-edge methods for cognitive neuroscience!\n",
    "\n",
    "For users on NeuroLibre, you are seeing a ready to run version of these tutorials that needed no installation or configuration on your part. If you would like to install and use these tutorials on your own machines, follow the instructions on [brainiak tutorials](http://brainiak.org/tutorials).\n",
    "\n",
    "In this course we will use a variety of tools, many of which will likely be new to you. Don't worry if you are having trouble wrapping your head around them now: by the end of this course you will be proficient in not only these useful skills but also the exciting analyses that use them. \n",
    "\n",
    "## Goal of this notebook\n",
    "    1. Familiarize yourself with the tools that will be used in these notebooks. \n",
    "\n",
    "\n",
    "## Table of Contents\n",
    "\n",
    "Exercises\n",
    ">[Exercise 1](#ex1)  \n",
    "\n",
    "[Contributions](#contributions)"
   ]
  },
  {
   "cell_type": "markdown",
   "metadata": {},
   "source": [
    "## Resources <a id=\"resource\"></a>\n",
    "\n",
    "Here are some resources (Python, fMRI and machine learning, etc.): \n",
    "<a href=\"https://github.com/brainiak/tutorials/wiki/Resources\">BrainIAK tutorials resource page</a>"
   ]
  },
  {
   "cell_type": "markdown",
   "metadata": {},
   "source": [
    "## Import necessary packages"
   ]
  },
  {
   "cell_type": "code",
   "execution_count": null,
   "metadata": {
    "collapsed": true
   },
   "outputs": [],
   "source": [
    "# suppress warnings\n",
    "import warnings\n",
    "import sys \n",
    "if not sys.warnoptions:\n",
    "    warnings.simplefilter(\"ignore\")\n",
    "\n",
    "# The plotting tool we will be using in this course\n",
    "import matplotlib.pyplot as plt\n",
    "\n",
    "# Module essential for data organization and manipulation\n",
    "import numpy as np #numpy's \"nickname\" is np\n",
    "\n",
    "# Import a function from BrainIAK to simulate fMRI data\n",
    "import brainiak.utils.fmrisim as sim  \n",
    "\n",
    "# display the plots inline \n",
    "%matplotlib inline \n",
    "# autosave for every 5 secs\n",
    "%autosave 5"
   ]
  },
  {
   "cell_type": "markdown",
   "metadata": {},
   "source": [
    "### Brain template \n",
    "\n",
    "We are now going to use some of the tools we just loaded. First we'll call a function from `brainiak` to load a gray matter mask from the MNI152 standard brain. Here's an article talking about different anatomical standards, including MNI152: [Structural Brain Atlases: Design, Rationale, and Applications in Normal and Pathological Cohorts](https://www.ncbi.nlm.nih.gov/pmc/articles/PMC4324755/)"
   ]
  },
  {
   "cell_type": "code",
   "execution_count": null,
   "metadata": {
    "collapsed": true
   },
   "outputs": [],
   "source": [
    "# Set the size (in terms of X, Y, Z) of the volume we want to create\n",
    "dimensions = np.asarray([64, 64, 64])\n",
    "\n",
    "# Generate an anatomical image with the size above of brain voxels in gray matter\n",
    "# This outputs variables for two versions of the image, binary (mask) and probabilistic (template)\n",
    "mask, template = sim.mask_brain(dimensions, mask_self=False)"
   ]
  },
  {
   "cell_type": "markdown",
   "metadata": {},
   "source": [
    "Congrats, you just ran a command from BrainIAK!!\n",
    "\n",
    "We are now going to take a slice from that template and display it."
   ]
  },
  {
   "cell_type": "code",
   "execution_count": null,
   "metadata": {
    "collapsed": true
   },
   "outputs": [],
   "source": [
    "# Get an axial (a.k.a. transverse or horizontal) slice halfway through the brain\n",
    "mid_idx = dimensions[2] // 2\n",
    "axial_slice = template[:, :, mid_idx]\n",
    "\n",
    "# imshow can visualize a 2d array \n",
    "plt.imshow(axial_slice)\n",
    "plt.title('An axial brain slice');"
   ]
  },
  {
   "cell_type": "markdown",
   "metadata": {},
   "source": [
    "### \"help()\"\n",
    "\n",
    "`help` is a very useful function in Python. If you type `help(function_name)` in Python, you will get some basic infomation about how to use this function. If you run the following line, you will see that `sim.mask_brain` takes the dimension of x, y, and z, and then output a MNI152 template with the specified dimensions. Note, you can also do this by typing [SHIFT] + [TAB] while the cursor is hovering over a function name. \n",
    "\n",
    "**Note:** The [SHIFT] + [TAB] works in Jupyter environments, but you will see small differences in this functionality when these notebooks are are used in other environments such as NeuroLibre that use Binder."
   ]
  },
  {
   "cell_type": "code",
   "execution_count": null,
   "metadata": {
    "collapsed": true
   },
   "outputs": [],
   "source": [
    "help(sim.mask_brain)"
   ]
  },
  {
   "cell_type": "markdown",
   "metadata": {},
   "source": [
    "### Look at the source code\n",
    "If you want to see the source code, you can use the `getsource` function from the `inspect` package. \n",
    "\n",
    "Run the following code to see the source code of `sim.mask_brain`. "
   ]
  },
  {
   "cell_type": "code",
   "execution_count": null,
   "metadata": {
    "collapsed": true
   },
   "outputs": [],
   "source": [
    "import inspect # this \"inspect\" package can let you peek what's inside a function\n",
    "source_code = inspect.getsource(sim.mask_brain)\n",
    "print(source_code)"
   ]
  },
  {
   "cell_type": "markdown",
   "metadata": {},
   "source": [
    "#### Creating a Python function\n",
    "\n",
    "`sim.mask_brain()` is a Python \"function\". In general, a Python function has the following structure: \n",
    "\n",
    "    def function_name(input_1, input_2, ..., input_m):\n",
    "        some code \n",
    "        some code\n",
    "        ...\n",
    "        some code\n",
    "        return output1, output2, ... output_n"
   ]
  },
  {
   "cell_type": "markdown",
   "metadata": {},
   "source": [
    "**Exercise 1:**<a id=\"ex1\"></a> Change the above script in at least 3 ways (examples: add a subplot of different slices, change the colors, show a histogram of values, etc.):"
   ]
  },
  {
   "cell_type": "markdown",
   "metadata": {},
   "source": [
    "## Contributions<a id=\"contributions\"></a>\n",
    "  \n",
    "M. Kumar, C. Ellis and N. Turk-Browne produced the initial notebook  01/2018  \n",
    "T. Meissner minor edits  \n",
    "Q. Lu: switch to matplotlib, fix dead links, add resources, encapsulate brainiak fmrisim  \n",
    "C. Ellis updated with comments from cmhn-s19"
   ]
  }
 ],
 "metadata": {
  "anaconda-cloud": {},
  "kernelspec": {
   "display_name": "Python 3",
   "language": "python",
   "name": "python3"
  },
  "language_info": {
   "codemirror_mode": {
    "name": "ipython",
    "version": 3
   },
   "file_extension": ".py",
   "mimetype": "text/x-python",
   "name": "python",
   "nbconvert_exporter": "python",
   "pygments_lexer": "ipython3",
   "version": "3.6.8"
  }
 },
 "nbformat": 4,
 "nbformat_minor": 2
}
